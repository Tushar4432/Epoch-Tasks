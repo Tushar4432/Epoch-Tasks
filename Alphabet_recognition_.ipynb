{
  "nbformat": 4,
  "nbformat_minor": 0,
  "metadata": {
    "colab": {
      "provenance": [],
      "gpuType": "T4"
    },
    "kernelspec": {
      "name": "python3",
      "display_name": "Python 3"
    },
    "language_info": {
      "name": "python"
    },
    "accelerator": "GPU"
  },
  "cells": [
    {
      "cell_type": "code",
      "execution_count": 3,
      "metadata": {
        "id": "67AReap2y_aZ"
      },
      "outputs": [],
      "source": [
        "import numpy as np\n",
        "import pandas as pd\n",
        "import random\n",
        "import matplotlib.pyplot as plt\n",
        "import tensorflow as tf\n",
        "from tensorflow.keras.models import Sequential\n",
        "from tensorflow.keras.layers import Dense, Dropout, Activation, Flatten\n",
        "from tensorflow.keras.layers import Conv2D, MaxPooling2D"
      ]
    },
    {
      "cell_type": "code",
      "source": [
        "!mkdir -p ~/.kaggle\n",
        "!cp kaggle.json ~/.kaggle/"
      ],
      "metadata": {
        "id": "k3AUMQivzbax"
      },
      "execution_count": 3,
      "outputs": []
    },
    {
      "cell_type": "code",
      "source": [
        "!kaggle datasets download -d sachinpatel21/az-handwritten-alphabets-in-csv-format"
      ],
      "metadata": {
        "colab": {
          "base_uri": "https://localhost:8080/"
        },
        "id": "c1OUe9lr0M_c",
        "outputId": "d29415f4-9671-4c08-b46d-bbb05c49cfb4"
      },
      "execution_count": 4,
      "outputs": [
        {
          "output_type": "stream",
          "name": "stdout",
          "text": [
            "Warning: Your Kaggle API key is readable by other users on this system! To fix this, you can run 'chmod 600 /root/.kaggle/kaggle.json'\n",
            "Dataset URL: https://www.kaggle.com/datasets/sachinpatel21/az-handwritten-alphabets-in-csv-format\n",
            "License(s): CC0-1.0\n",
            "Downloading az-handwritten-alphabets-in-csv-format.zip to /content\n",
            "100% 184M/185M [00:09<00:00, 23.9MB/s]\n",
            "100% 185M/185M [00:09<00:00, 19.6MB/s]\n"
          ]
        }
      ]
    },
    {
      "cell_type": "code",
      "source": [
        "import zipfile\n",
        "zip_ref = zipfile.ZipFile('/content/az-handwritten-alphabets-in-csv-format.zip', 'r')\n",
        "zip_ref.extractall('/content')\n",
        "zip_ref.close()"
      ],
      "metadata": {
        "id": "FKavMjTC1K3J"
      },
      "execution_count": 5,
      "outputs": []
    },
    {
      "cell_type": "code",
      "source": [
        "df = pd.read_csv('/content/A_Z Handwritten Data.csv')"
      ],
      "metadata": {
        "id": "ZpOOA-4206nF"
      },
      "execution_count": 4,
      "outputs": []
    },
    {
      "cell_type": "code",
      "source": [
        "seed = random.randint(0,100)\n",
        "i = 100000\n",
        "temp = df.sample(i, random_state = seed).to_numpy()"
      ],
      "metadata": {
        "id": "p1IWBqGh1DU_"
      },
      "execution_count": 19,
      "outputs": []
    },
    {
      "cell_type": "code",
      "source": [
        "X = temp[:,1:]\n",
        "y = temp[:,0:1]\n",
        "X = X.reshape(i, 28,28,1)"
      ],
      "metadata": {
        "id": "l_SprzJI34QB"
      },
      "execution_count": 20,
      "outputs": []
    },
    {
      "cell_type": "code",
      "source": [
        "i = 5\n",
        "plt.imshow(X[i])\n",
        "print(y[i])"
      ],
      "metadata": {
        "colab": {
          "base_uri": "https://localhost:8080/",
          "height": 447
        },
        "id": "MDOJmbFm4dHR",
        "outputId": "26a18cc5-bb02-4304-b92b-8606b9ed94a8"
      },
      "execution_count": 21,
      "outputs": [
        {
          "output_type": "stream",
          "name": "stdout",
          "text": [
            "[20]\n"
          ]
        },
        {
          "output_type": "display_data",
          "data": {
            "text/plain": [
              "<Figure size 640x480 with 1 Axes>"
            ],
            "image/png": "[encoded data removed]"
          },
          "metadata": {}
        }
      ]
    },
    {
      "cell_type": "code",
      "source": [
        "model = Sequential()\n",
        "\n",
        "#layer 1\n",
        "model.add(Conv2D(filters=64, kernel_size=(3,3), activation='relu', input_shape=(28,28,1), padding ='same'))\n",
        "model.add(Conv2D(filters=64, kernel_size=(3,3), activation='relu', input_shape=(28,28,1), padding ='same'))\n",
        "model.add(MaxPooling2D(pool_size=(2,2), strides=(2,2)))\n",
        "\n",
        "#layer2\n",
        "model.add(Conv2D(filters=128, kernel_size=(3,3), activation='relu', padding = 'same'))\n",
        "model.add(Conv2D(filters=128, kernel_size=(3,3), activation='relu', padding = 'same'))\n",
        "model.add(MaxPooling2D(pool_size=(2,2), strides=(2,2)))\n",
        "\n",
        "#layer3\n",
        "model.add(Conv2D(filters=512, kernel_size=(3,3), activation='relu', padding = 'same'))\n",
        "model.add(Conv2D(filters=512, kernel_size=(3,3), activation='relu', padding = 'same'))\n",
        "model.add(Conv2D(filters=512, kernel_size=(3,3), activation='relu', padding = 'same'))\n",
        "model.add(MaxPooling2D(pool_size=(2,2), strides=(2,2)))\n",
        "\n",
        "#fully connected layers\n",
        "model.add(Flatten())\n",
        "model.add(Dense(128, activation='relu'))\n",
        "model.add(Dropout(0.5))\n",
        "model.add(Dense(64, activation='relu'))\n",
        "model.add(Dropout(0.5))\n",
        "model.add(Dense(26, activation='softmax'))\n"
      ],
      "metadata": {
        "id": "dIAeOPiu1-8M"
      },
      "execution_count": 22,
      "outputs": []
    },
    {
      "cell_type": "code",
      "source": [
        "model.compile(loss = 'sparse_categorical_crossentropy', optimizer = 'adam', metrics = ['accuracy'])"
      ],
      "metadata": {
        "id": "3Tl5_v065cSX"
      },
      "execution_count": 23,
      "outputs": []
    },
    {
      "cell_type": "code",
      "source": [
        "model.summary()"
      ],
      "metadata": {
        "colab": {
          "base_uri": "https://localhost:8080/"
        },
        "id": "5zIbWqHJ5fA_",
        "outputId": "f59de8a0-744f-47c7-c26a-e0223cedb533"
      },
      "execution_count": 24,
      "outputs": [
        {
          "output_type": "stream",
          "name": "stdout",
          "text": [
            "Model: \"sequential_2\"\n",
            "_________________________________________________________________\n",
            " Layer (type)                Output Shape              Param #   \n",
            "=================================================================\n",
            " conv2d_11 (Conv2D)          (None, 28, 28, 64)        640       \n",
            "                                                                 \n",
            " conv2d_12 (Conv2D)          (None, 28, 28, 64)        36928     \n",
            "                                                                 \n",
            " max_pooling2d_5 (MaxPoolin  (None, 14, 14, 64)        0         \n",
            " g2D)                                                            \n",
            "                                                                 \n",
            " conv2d_13 (Conv2D)          (None, 14, 14, 128)       73856     \n",
            "                                                                 \n",
            " conv2d_14 (Conv2D)          (None, 14, 14, 128)       147584    \n",
            "                                                                 \n",
            " max_pooling2d_6 (MaxPoolin  (None, 7, 7, 128)         0         \n",
            " g2D)                                                            \n",
            "                                                                 \n",
            " conv2d_15 (Conv2D)          (None, 7, 7, 512)         590336    \n",
            "                                                                 \n",
            " conv2d_16 (Conv2D)          (None, 7, 7, 512)         2359808   \n",
            "                                                                 \n",
            " conv2d_17 (Conv2D)          (None, 7, 7, 512)         2359808   \n",
            "                                                                 \n",
            " max_pooling2d_7 (MaxPoolin  (None, 3, 3, 512)         0         \n",
            " g2D)                                                            \n",
            "                                                                 \n",
            " flatten_2 (Flatten)         (None, 4608)              0         \n",
            "                                                                 \n",
            " dense_7 (Dense)             (None, 128)               589952    \n",
            "                                                                 \n",
            " dropout_5 (Dropout)         (None, 128)               0         \n",
            "                                                                 \n",
            " dense_8 (Dense)             (None, 64)                8256      \n",
            "                                                                 \n",
            " dropout_6 (Dropout)         (None, 64)                0         \n",
            "                                                                 \n",
            " dense_9 (Dense)             (None, 26)                1690      \n",
            "                                                                 \n",
            "=================================================================\n",
            "Total params: 6168858 (23.53 MB)\n",
            "Trainable params: 6168858 (23.53 MB)\n",
            "Non-trainable params: 0 (0.00 Byte)\n",
            "_________________________________________________________________\n"
          ]
        }
      ]
    },
    {
      "cell_type": "code",
      "source": [
        "history = model.fit(X,y, epochs = 10, validation_split = 0.25)"
      ],
      "metadata": {
        "colab": {
          "base_uri": "https://localhost:8080/"
        },
        "id": "x8_FlLB06ZlH",
        "outputId": "0caf7e70-cb24-400d-f937-a213f03d6c19"
      },
      "execution_count": 25,
      "outputs": [
        {
          "output_type": "stream",
          "name": "stdout",
          "text": [
            "Epoch 1/10\n",
            "2344/2344 [==============================] - 56s 23ms/step - loss: 1.1389 - accuracy: 0.6697 - val_loss: 0.2815 - val_accuracy: 0.9369\n",
            "Epoch 2/10\n",
            "2344/2344 [==============================] - 47s 20ms/step - loss: 0.3826 - accuracy: 0.8926 - val_loss: 0.1237 - val_accuracy: 0.9706\n",
            "Epoch 3/10\n",
            "2344/2344 [==============================] - 49s 21ms/step - loss: 0.2868 - accuracy: 0.9231 - val_loss: 0.1296 - val_accuracy: 0.9691\n",
            "Epoch 4/10\n",
            "2344/2344 [==============================] - 46s 20ms/step - loss: 0.2382 - accuracy: 0.9377 - val_loss: 0.1279 - val_accuracy: 0.9745\n",
            "Epoch 5/10\n",
            "2344/2344 [==============================] - 48s 20ms/step - loss: 0.2072 - accuracy: 0.9492 - val_loss: 0.1700 - val_accuracy: 0.9690\n",
            "Epoch 6/10\n",
            "2344/2344 [==============================] - 48s 20ms/step - loss: 0.1730 - accuracy: 0.9576 - val_loss: 0.1125 - val_accuracy: 0.9782\n",
            "Epoch 7/10\n",
            "2344/2344 [==============================] - 47s 20ms/step - loss: 0.1695 - accuracy: 0.9593 - val_loss: 0.1521 - val_accuracy: 0.9746\n",
            "Epoch 8/10\n",
            "2344/2344 [==============================] - 50s 21ms/step - loss: 0.1530 - accuracy: 0.9627 - val_loss: 0.1374 - val_accuracy: 0.9790\n",
            "Epoch 9/10\n",
            "2344/2344 [==============================] - 47s 20ms/step - loss: 0.1423 - accuracy: 0.9660 - val_loss: 0.1137 - val_accuracy: 0.9814\n",
            "Epoch 10/10\n",
            "2344/2344 [==============================] - 46s 20ms/step - loss: 0.1422 - accuracy: 0.9659 - val_loss: 0.1090 - val_accuracy: 0.9820\n"
          ]
        }
      ]
    },
    {
      "cell_type": "code",
      "source": [
        "plt.plot(history.history['accuracy'],color='red',label='train')\n",
        "plt.plot(history.history['val_accuracy'],color='blue',label='validation')\n",
        "plt.legend()\n",
        "plt.show()"
      ],
      "metadata": {
        "colab": {
          "base_uri": "https://localhost:8080/",
          "height": 430
        },
        "id": "vXbfICer7q5N",
        "outputId": "dcb74a53-8a8f-4ba1-d4f3-99ba4ab0c099"
      },
      "execution_count": 26,
      "outputs": [
        {
          "output_type": "display_data",
          "data": {
            "text/plain": [
              "<Figure size 640x480 with 1 Axes>"
            ],
            "image/png": "[encoded data removed]"
          },
          "metadata": {}
        }
      ]
    },
    {
      "cell_type": "code",
      "source": [
        "plt.plot(history.history['loss'],color='red',label='train')\n",
        "plt.plot(history.history['val_loss'],color='blue',label='validation')\n",
        "plt.legend()\n",
        "plt.show()"
      ],
      "metadata": {
        "colab": {
          "base_uri": "https://localhost:8080/",
          "height": 430
        },
        "id": "lG7uGu8c-j1F",
        "outputId": "1a326697-7132-45fc-e4e9-e2919ec98aeb"
      },
      "execution_count": 27,
      "outputs": [
        {
          "output_type": "display_data",
          "data": {
            "text/plain": [
              "<Figure size 640x480 with 1 Axes>"
            ],
            "image/png": "[encoded data removed]"
          },
          "metadata": {}
        }
      ]
    },
    {
      "cell_type": "code",
      "source": [
        "seed = random.randint(0,100)\n",
        "temp = df.sample(n = 10000, random_state = seed)\n",
        "X = temp.to_numpy()[:,1:]\n",
        "y = temp.to_numpy()[:,0:1]\n",
        "X = X.reshape(10000,28,28,1)"
      ],
      "metadata": {
        "id": "RPTbMh7h_Dex"
      },
      "execution_count": 28,
      "outputs": []
    },
    {
      "cell_type": "code",
      "source": [
        "y_pred = model.predict(X)\n",
        "y_pred = np.argmax(y_pred, axis = 1)\n",
        "from sklearn.metrics import accuracy_score\n",
        "accuracy_score(y,y_pred)\n"
      ],
      "metadata": {
        "colab": {
          "base_uri": "https://localhost:8080/"
        },
        "id": "1kVnjZixAbZr",
        "outputId": "a81845bf-d77a-4098-caf9-0e0b1d4a6975"
      },
      "execution_count": 29,
      "outputs": [
        {
          "output_type": "stream",
          "name": "stdout",
          "text": [
            "313/313 [==============================] - 2s 7ms/step\n"
          ]
        },
        {
          "output_type": "execute_result",
          "data": {
            "text/plain": [
              "0.9836"
            ]
          },
          "metadata": {},
          "execution_count": 29
        }
      ]
    },
    {
      "cell_type": "code",
      "source": [
        "model.save('/content/alphabet_recognition.keras')"
      ],
      "metadata": {
        "id": "z7fDiDe4Adbz"
      },
      "execution_count": 30,
      "outputs": []
    },
    {
      "cell_type": "code",
      "source": [
        "model = tf.keras.models.load_model('/content/alphabet_recognition.keras')"
      ],
      "metadata": {
        "id": "qdkMe50RI1b6"
      },
      "execution_count": 31,
      "outputs": []
    },
    {
      "cell_type": "code",
      "source": [
        "y_pred = model.predict(X)\n",
        "y_pred = np.argmax(y_pred, axis = 1)\n",
        "from sklearn.metrics import accuracy_score\n",
        "accuracy_score(y,y_pred)\n"
      ],
      "metadata": {
        "id": "0CxPw-29J9ZB",
        "outputId": "b1e5ac9c-1e54-4831-9c50-7a51be8f8c83",
        "colab": {
          "base_uri": "https://localhost:8080/"
        }
      },
      "execution_count": 32,
      "outputs": [
        {
          "output_type": "stream",
          "name": "stdout",
          "text": [
            "313/313 [==============================] - 2s 5ms/step\n"
          ]
        },
        {
          "output_type": "execute_result",
          "data": {
            "text/plain": [
              "0.9836"
            ]
          },
          "metadata": {},
          "execution_count": 32
        }
      ]
    }
  ]
}